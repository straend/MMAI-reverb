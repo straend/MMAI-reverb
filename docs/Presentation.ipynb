{
 "cells": [
  {
   "cell_type": "markdown",
   "metadata": {
    "slideshow": {
     "slide_type": "slide"
    }
   },
   "source": [
    "# Final presentation\n",
    "\n",
    "## Moorer reverb"
   ]
  },
  {
   "cell_type": "markdown",
   "metadata": {
    "slideshow": {
     "slide_type": "slide"
    }
   },
   "source": [
    "### What is the moorer reverb algorithm?\n",
    "** Schroeder work based **\n",
    "<br/>_Early reflections from the tapped delay line feed parallel comb filters followed by all pass filter_\n",
    "<img src='moorer.png'>"
   ]
  },
  {
   "cell_type": "markdown",
   "metadata": {
    "slideshow": {
     "slide_type": "slide"
    }
   },
   "source": [
    "## Why were different algorithm blocks used?\n",
    "### Implementation of these blocks in C language"
   ]
  },
  {
   "cell_type": "markdown",
   "metadata": {
    "collapsed": true,
    "slideshow": {
     "slide_type": "slide"
    }
   },
   "source": [
    "### Delay lines\n",
    "\n",
    "``` c\n",
    "void init_delay(delay_line_s *dl, float delay_ms, \n",
    "                float *input, SF_INFO *sf, float gain\n",
    ")\n",
    "{\n",
    "    dl->delay_ms = delay_ms;\n",
    "    dl->input = input;\n",
    "    dl->sf = sf;\n",
    "    dl->ptr = 0;\n",
    "    dl->delay_samples = (uint64_t) ((float)(sf->samplerate) * (delay_ms/1000));\n",
    "\n",
    "    // Preallocate double of needed memory for our delayline\n",
    "    dl->delay = calloc(sizeof(float), dl->delay_samples*2);\n",
    "    dl->samplerate = sf->samplerate;\n",
    "    \n",
    "    if (NULL == dl->delay){\n",
    "        printf(\"FAIL FAIL\\n\");\n",
    "    }\n",
    "    dl->gain = gain;\n",
    "}\n",
    "```"
   ]
  },
  {
   "cell_type": "markdown",
   "metadata": {
    "slideshow": {
     "slide_type": "subslide"
    }
   },
   "source": [
    "``` c\n",
    "void set_delay(delay_line_s *dl, float delay_ms, float gain)\n",
    "{\n",
    "  uint32_t old_delay_samples = dl->delay_samples;\n",
    "  dl->delay_ms = delay_ms;\n",
    "  dl->delay_samples = (uint64_t) ((float)(dl->sf->samplerate) * (dl->delay_ms/1000));\n",
    "  dl->gain = gain;\n",
    "  // Check if we need to reallocate memory for our delay_line, if so MAKE IT DOUBLE the needed size\n",
    "  // (reallocs are not nice (or fast))\n",
    "  // @TODO: do some interpolating or other magic on values if we need more room\n",
    "  if (dl->delay_samples>old_delay_samples*2){\n",
    "    dl->delay = realloc(dl->delay, sizeof(float) * dl->delay_samples*2);\n",
    "  }\n",
    "}\n",
    "\n",
    "float process_delay(delay_line_s *dl, float x)\n",
    "{\n",
    "    float y = dl->delay[dl->ptr];\n",
    "    dl->delay[dl->ptr++] = x + (y * dl->gain);\n",
    "    if (dl->ptr >= dl->delay_samples) {\n",
    "        dl->ptr -= dl->delay_samples;\n",
    "    }\n",
    "    return y;\n",
    "}\n",
    "```"
   ]
  },
  {
   "cell_type": "markdown",
   "metadata": {
    "collapsed": true,
    "slideshow": {
     "slide_type": "slide"
    }
   },
   "source": [
    "### Early reflections implementation - delay lines\n",
    "_The more this value is high, the more early reflections we get_\n",
    "\n",
    "``` c\n",
    "//Early reflection GAIN values to apply to each of the above taps\n",
    "const float ER_GAINS[] = {\n",
    "    0.841, 0.504, 0.491, 0.379, 0.380, 0.346, 0.289, 0.272, 0.192, 0.193, 0.217, 0.181, 0.180,\n",
    "    0.181, 0.176, 0.142, 0.167, 0.134\n",
    "};\n",
    "\n",
    "//First initialise early reflection values\n",
    "void init_early(float *samples, SF_INFO *sfinfo, float earlyRD)\n",
    "{\n",
    "  uint8_t d;\n",
    "  for(d=0;d<TAPS;d++){\n",
    "    init_delay(&dl[d], ER_TAPS[d]*earlyRD, samples, sfinfo, ER_GAINS[d]);\n",
    "  }\n",
    "}\n",
    "\n",
    "```"
   ]
  },
  {
   "cell_type": "markdown",
   "metadata": {
    "slideshow": {
     "slide_type": "subslide"
    }
   },
   "source": [
    "```c\n",
    "//Set the values of early reflection taps from GUI\n",
    "void set_earlyRD(float earlyRD)\n",
    "{\n",
    "  uint8_t d;\n",
    "  for(d=0;d<TAPS;d++){\n",
    "    set_delay(&dl[d], ER_TAPS[d]*earlyRD, ER_GAINS[d]);\n",
    "  }\n",
    "}\n",
    "\n",
    "//Function which iterate the early reflection's process\n",
    "void process_early_iter(float *input, const uint32_t iter)\n",
    "{\n",
    "  uint32_t i;\n",
    "  for (i=0; i<iter; i++){\n",
    "    float x = input[i];\n",
    "    float processed = 0;\n",
    "    uint8_t d;\n",
    "    for(d=0;d<TAPS;d++){\n",
    "      float y = process_delay(&dl[d], x);\n",
    "      processed += y;\n",
    "\n",
    "    }\n",
    "    //printf(\"%f \\t %f\\n\", input[i], processed/TAPS);\n",
    "    input[i] = processed/TAPS;\n",
    "  }\n",
    "}\n",
    "```"
   ]
  },
  {
   "cell_type": "markdown",
   "metadata": {
    "collapsed": true,
    "slideshow": {
     "slide_type": "slide"
    }
   },
   "source": [
    "### Late reflections - Comb filters\n",
    "\n",
    "``` c\n",
    "const float comb_delays[] = {50, 56, 61, 68, 72, 78};\n",
    "const float comb_damp_freq[] = {1942, 1362, 1312, 1574, 981, 1036};\n",
    "\n",
    "void init_delay_comb(delay_line_s *dl, float delay_ms, float *input, \n",
    "                     SF_INFO *sf, float gain, float cutoff\n",
    ")\n",
    "{\n",
    "    init_delay(dl, delay_ms, input, sf, gain);\n",
    "    float costh = 2.0 - cos(2.0 * M_PI * cutoff / sf->samplerate);\n",
    "    dl->lp_coef = sqrt(costh * costh - 1.0) - costh;\n",
    "}\n",
    "\n",
    "void init_combs(float *samples, SF_INFO *sfinfo, float rt60, float damping)\n",
    "{\n",
    "  uint8_t c;\n",
    "  for (c = 0; c < COMBS; c++) {\n",
    "    float g = pow(10.0, ((-3.0 * comb_delays[c]) / (rt60 * 1000.0)));\n",
    "    init_delay_comb(&comb[c], comb_delays[c], samples, sfinfo, g, comb_damp_freq[c]*damping);\n",
    "  }\n",
    "}\n",
    "\n",
    "void set_delay_comb(delay_line_s *dl, float delay_ms, float gain, float cutoff)\n",
    "{\n",
    "  set_delay(dl, delay_ms, gain);\n",
    "  float costh = 2.0 - cos(2.0 * M_PI * cutoff / dl->sf->samplerate);\n",
    "  dl->lp_coef = sqrt(costh * costh - 1.0) - costh;\n",
    "\n",
    "}\n",
    "\n",
    "```"
   ]
  },
  {
   "cell_type": "markdown",
   "metadata": {
    "slideshow": {
     "slide_type": "subslide"
    }
   },
   "source": [
    "```c\n",
    "float process_comb(delay_line_s *dl, float x)\n",
    "{\n",
    "\n",
    "    /*\n",
    "     * prev = in * (1 + coef) - (prev * coef);\n",
    "     * return prev;\n",
    "    */\n",
    "\n",
    "    float y = dl->delay[dl->ptr];\n",
    "    float to_lp = y * dl->gain;\n",
    "    float from_lp = to_lp * (1+dl->lp_coef) - (dl->lp_last * dl->lp_coef);\n",
    "    dl->lp_last = from_lp;\n",
    "\n",
    "    float OUT = from_lp + x;\n",
    "    //dl->delay[dl->ptr++] = (dl->gain)/(1 + (dl->gain * (x + (y * dl->gain))));\n",
    "    //dl->delay[dl->ptr++] = (1-dl->gain)/(1 + (dl->gain * y));\n",
    "    dl->delay[dl->ptr++] = OUT;\n",
    "\n",
    "    if (dl->ptr >= dl->delay_samples) {\n",
    "        dl->ptr -= dl->delay_samples;\n",
    "    }\n",
    "    return y;\n",
    "}\n",
    "\n",
    "void process_comb_iter(float *input, const uint32_t iter)\n",
    "{\n",
    "  uint32_t i;\n",
    "  for (i=0; i<iter; i++) {\n",
    "    float x = input[i];\n",
    "    float processed = 0;\n",
    "    uint8_t c;\n",
    "    for (c = 0; c < COMBS; c++) {\n",
    "      processed += process_comb(&comb[c], x);\n",
    "    }\n",
    "    input[i] = processed;\n",
    "  }\n",
    "}\n",
    "```"
   ]
  },
  {
   "cell_type": "markdown",
   "metadata": {
    "collapsed": true,
    "slideshow": {
     "slide_type": "slide"
    }
   },
   "source": [
    "### Allpass filter\n",
    "\n",
    "``` c\n",
    "void init_allpass(float *samples, SF_INFO *sfinfo, float lateRD)\n",
    "{\n",
    "  init_delay(&dla, 6*lateRD, samples, sfinfo, 0.707);\n",
    "}\n",
    "\n",
    "float process_allpass(delay_line_s *dl, float x)\n",
    "{\n",
    "    float y = dl->delay[dl->ptr];\n",
    "    //dl->delay[dl->ptr++] = (dl->gain + (x + (y * dl->gain)))/(1 + (dl->gain * (x + (y * dl->gain))));\n",
    "    float to_dl = x + (dl->gain*y);\n",
    "    float out = -dl->gain*to_dl + y;\n",
    "    dl->delay[dl->ptr++] = to_dl;\n",
    "\n",
    "    if (dl->ptr >= dl->delay_samples) {\n",
    "        dl->ptr -= dl->delay_samples;\n",
    "    }\n",
    "    return out;\n",
    "}\n",
    "\n",
    "void process_allpass_iter(float *input, const uint32_t iter)\n",
    "{\n",
    "  uint32_t i;\n",
    "  for (i=0; i<iter; i++) {\n",
    "    float processed = 0;\n",
    "    float x = input[i];\n",
    "    processed += process_allpass(&dla, x);\n",
    "    input[i] = processed;\n",
    "  }\n",
    "}\n",
    "```"
   ]
  },
  {
   "cell_type": "markdown",
   "metadata": {
    "collapsed": true,
    "slideshow": {
     "slide_type": "slide"
    }
   },
   "source": [
    "### Final Moorer process\n",
    "\n",
    "``` c\n",
    "void init_moorer(float *samples, SF_INFO *sfinfo, const uint32_t iter,\n",
    "                 reverb_settings_s *rs\n",
    ")\n",
    "{\n",
    "  init_early(samples, sfinfo, rs->earlyRD);\n",
    "  init_combs(samples, sfinfo, rs->rt60, rs->damping);\n",
    "  init_allpass(samples, sfinfo, rs->lateRD);\n",
    "\n",
    "  early_reflections=calloc(sizeof(float), iter*sfinfo->channels);\n",
    "  late_reflections=calloc(sizeof(float), iter*sfinfo->channels);\n",
    "  _mixWet = rs->wetmix;\n",
    "}\n",
    "```"
   ]
  },
  {
   "cell_type": "markdown",
   "metadata": {
    "slideshow": {
     "slide_type": "subslide"
    }
   },
   "source": [
    "```c\n",
    "void process_moorer(const uint32_t iter, float *samples)\n",
    "{\n",
    "  memcpy(early_reflections, samples, sizeof(float)*iter);\n",
    "  process_early_iter(early_reflections, iter);\n",
    "  memcpy(late_reflections, early_reflections, sizeof(float)*iter);\n",
    "\n",
    "  process_comb_iter(late_reflections, iter);\n",
    "  process_allpass_iter(late_reflections, iter);\n",
    "\n",
    "\n",
    "  float mixDry=1-_mixWet;\n",
    "  uint32_t i;\n",
    "  for (i=0; i<iter; i++) {\n",
    "    float or = samples[i];\n",
    "    float m = or*mixDry + late_reflections[i]*_mixWet;\n",
    "    samples[i] = m;//early_reflections[i];\n",
    "  }\n",
    "}\n",
    "\n",
    "void finnish_moorer()\n",
    "{\n",
    "  uint8_t d;\n",
    "  for(d=0;d<TAPS;d++){\n",
    "    free(dl[d].delay);\n",
    "  }\n",
    "  for (d = 0; d < COMBS; d++) {\n",
    "    free(comb[d].delay);\n",
    "  }\n",
    "  free(dla.delay);\n",
    "\n",
    "  free(early_reflections);\n",
    "  free(late_reflections);\n",
    "}\n",
    "```"
   ]
  },
  {
   "cell_type": "markdown",
   "metadata": {
    "slideshow": {
     "slide_type": "slide"
    }
   },
   "source": [
    "## Parameters and a GUI"
   ]
  },
  {
   "cell_type": "markdown",
   "metadata": {
    "slideshow": {
     "slide_type": "slide"
    }
   },
   "source": [
    "### Parameters\n",
    "** Wet/Dry **\n",
    "    <br/>_Percentage of the sound with (wet) or without reverb (dry)_<br/>\n",
    "      \n",
    "** Early reflections **\n",
    "    <br/>_Diffusion. If we increase it, early reflections are closer. Thickens the sound. \n",
    "    If the value is reduce, it sounds like individual echoes._<br/>\n",
    "      \n",
    "** Damping/Cut off **\n",
    "    <br/>_If it is increased, it reduces high frequencies producing a warmer sound._<br/>\n",
    "      \n",
    "** Rt60/Room size **\n",
    "    <br/>_Reverberation time measurement. Used to calculate the time required for the sound to \"fade away\"._<br/>"
   ]
  },
  {
   "cell_type": "markdown",
   "metadata": {
    "collapsed": true,
    "slideshow": {
     "slide_type": "slide"
    }
   },
   "source": [
    "<img src='GUI.png'>"
   ]
  },
  {
   "cell_type": "markdown",
   "metadata": {
    "slideshow": {
     "slide_type": "slide"
    }
   },
   "source": [
    "### Effects of each parameter in our code\n",
    "#### Wet\n",
    "Mixing of 'dry' (raw input) and the reverb effect 'wet'  \n",
    "```c\n",
    "float mixDry=1-_mixWet;\n",
    "  uint32_t i;\n",
    "  for (i=0; i<iter; i++) {\n",
    "    float or = samples[i];\n",
    "    float m = or*mixDry + late_reflections[i]*_mixWet;\n",
    "    samples[i] = m;//early_reflections[i];\n",
    "  }\n",
    "```\n"
   ]
  },
  {
   "cell_type": "markdown",
   "metadata": {
    "slideshow": {
     "slide_type": "subslide"
    }
   },
   "source": [
    "#### Early reflections\n",
    "_It changes the position of the tap delay lines._\n",
    "```c\n",
    "void set_earlyRD(float earlyRD)\n",
    "{\n",
    "  uint8_t d;\n",
    "  for(d=0;d<TAPS;d++){\n",
    "    set_delay(&dl[d], ER_TAPS[d]*earlyRD, ER_GAINS[d]);\n",
    "  }\n",
    "}\n",
    "```"
   ]
  },
  {
   "cell_type": "markdown",
   "metadata": {
    "slideshow": {
     "slide_type": "subslide"
    }
   },
   "source": [
    "#### Damping\n",
    "_Decrease frequencies of the low pass filter in the comb filters._  \n",
    "(Might have failed in the listening test)  \n",
    "\n",
    "```c\n",
    "void set_cutoff(float cutoff)\n",
    "{\n",
    "  uint8_t d;\n",
    "  for(d=0;d<COMBS;d++){\n",
    "    float costh = 2.0 - cos(2.0 * M_PI * comb_damp_freq[d]*cutoff / (float) comb[d].sf->samplerate);\n",
    "    comb[d].lp_coef = sqrt(costh * costh - 1.0) - costh;\n",
    "    printf(\"%d: lp_coef %f\\n\", d, dl[d].lp_coef);\n",
    "  }\n",
    "}\n",
    "```"
   ]
  },
  {
   "cell_type": "markdown",
   "metadata": {
    "slideshow": {
     "slide_type": "subslide"
    }
   },
   "source": [
    "#### Rt60 or area and volume\n",
    "_Change the gain of the comb filters, which has consequences on the reverberation time._  \n",
    "\n",
    "```c\n",
    "void set_rt60(float rt60)\n",
    "{\n",
    "  uint8_t c;\n",
    "  for (c = 0; c < COMBS; c++) {\n",
    "    float g = pow(10.0, ((-3.0 * comb_delays[c]) / (rt60 * 1000.0)));\n",
    "    comb[c].gain = g;\n",
    "  }\n",
    "}\n",
    "\n",
    "```\n",
    "https://github.com/keithhearne/VSTPlugins/blob/master/MoorerReverb/Source/Moorer.cpp"
   ]
  },
  {
   "cell_type": "markdown",
   "metadata": {
    "slideshow": {
     "slide_type": "fragment"
    }
   },
   "source": [
    "```c\n",
    "/*\n",
    "   * RT = 0.16 x V / A\n",
    "   * T = reverberation time, s\n",
    "   * V = volume of the room, m3\n",
    "   * A = (Σ surface area (S) x α) = absorption area of the room, m2\n",
    "   * For a frequency of 100Hz and 4mm glass as materia matCoef = 0.07\n",
    "*/\n",
    "float get_rt60_from_volume_area(float volume, float area) {\n",
    "    float matCoef = 0.07;\n",
    "    float A = area * matCoef;\n",
    "    return 0.16 * volume / A;\n",
    "}\n",
    "```"
   ]
  },
  {
   "cell_type": "markdown",
   "metadata": {
    "slideshow": {
     "slide_type": "slide"
    }
   },
   "source": [
    "## Team work and schedule"
   ]
  },
  {
   "cell_type": "markdown",
   "metadata": {
    "slideshow": {
     "slide_type": "slide"
    }
   },
   "source": [
    "### Work shared\n",
    "_Work was shared according to issues repartition._<br/>\n",
    "_It was then gathered during our two meetings of each week._<br/>\n",
    " \n",
    "### Collaborative programming\n",
    "_Each member had to work on his/her branch._<br/>\n",
    "_Work was then merged in the master branch after validation._<br/>\n",
    "  \n",
    "** Tomas was responsible for the quality and functionality of the code. **<br/>\n",
    "** Candice was responsible for the organisation/presentation and the creation of the GUI. **  \n",
    "<br/>_It does not mean that each one did what he/she had to alone, they helpt each other and each one did a bit of what the other had to do._"
   ]
  },
  {
   "cell_type": "code",
   "execution_count": null,
   "metadata": {
    "collapsed": true
   },
   "outputs": [],
   "source": []
  }
 ],
 "metadata": {
  "celltoolbar": "Slideshow",
  "kernelspec": {
   "display_name": "Python [default]",
   "language": "python",
   "name": "python3"
  },
  "language_info": {
   "codemirror_mode": {
    "name": "ipython",
    "version": 3
   },
   "file_extension": ".py",
   "mimetype": "text/x-python",
   "name": "python",
   "nbconvert_exporter": "python",
   "pygments_lexer": "ipython3",
   "version": "3.6.0"
  }
 },
 "nbformat": 4,
 "nbformat_minor": 2
}
